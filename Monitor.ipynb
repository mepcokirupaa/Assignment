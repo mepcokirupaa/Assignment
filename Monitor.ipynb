{
 "cells": [
  {
   "cell_type": "code",
   "execution_count": null,
   "metadata": {},
   "outputs": [],
   "source": [
    "import time\n",
    "from watchdog.observers import Observer\n",
    "from watchdog.events import FileSystemEventHandler\n",
    "class Watcher:\n",
    "    DIRECTORY_TO_WATCH = \"C:/Users/Lenovo/Documents/Atos Syntel/Interview Assignment/Engineering Test - Copy/Engineering Test Files\"\n",
    "\n",
    "    def __init__(self):\n",
    "        self.observer = Observer()\n",
    "\n",
    "    def run(self):\n",
    "        event_handler = Handler()\n",
    "        self.observer.schedule(event_handler, self.DIRECTORY_TO_WATCH, recursive=True)\n",
    "        self.observer.start()\n",
    "        try:\n",
    "            while True:\n",
    "                time.sleep(1)\n",
    "        except KeyboardInterrupt:\n",
    "            self.observer.stop()\n",
    "            print (\"Error\")\n",
    "\n",
    "        self.observer.join()\n",
    "\n",
    "\n",
    "class Handler(FileSystemEventHandler):\n",
    "\n",
    "    @staticmethod\n",
    "    def on_any_event(event):\n",
    "        if event.is_directory:\n",
    "            return None\n",
    "\n",
    "        elif event.event_type == 'created':\n",
    "            # Take any action here when a file is first created.\n",
    "            print (\"Received created event - %s.\" % event.src_path)\n",
    "            for filename in all_files:\n",
    "                df = pd.read_csv(filename, index_col=None, header=0)\n",
    "                li.append(df)\n",
    "\n",
    "            frame = pd.concat(li, axis=0, ignore_index=True)\n",
    "            print(frame)\n",
    "\n",
    "\n",
    "        elif event.event_type == 'modified':\n",
    "            # Taken any action here when a file is modified.\n",
    "            print (\"Received modified event - %s.\" % event.src_path)\n",
    "            \n",
    "        elif event.event_type == 'deleted':\n",
    "            # Taken any action here when a file is deleted.\n",
    "            print (\"Received deleted event - %s.\" % event.src_path)\n",
    "        \n",
    "\n",
    "\n",
    "if __name__ == '__main__':\n",
    "    w = Watcher()\n",
    "    w.run()\n",
    "\n"
   ]
  },
  {
   "cell_type": "code",
   "execution_count": null,
   "metadata": {},
   "outputs": [],
   "source": [
    "import flask\n"
   ]
  },
  {
   "cell_type": "code",
   "execution_count": null,
   "metadata": {},
   "outputs": [],
   "source": []
  }
 ],
 "metadata": {
  "kernelspec": {
   "display_name": "Python 3",
   "language": "python",
   "name": "python3"
  },
  "language_info": {
   "codemirror_mode": {
    "name": "ipython",
    "version": 3
   },
   "file_extension": ".py",
   "mimetype": "text/x-python",
   "name": "python",
   "nbconvert_exporter": "python",
   "pygments_lexer": "ipython3",
   "version": "3.5.4"
  }
 },
 "nbformat": 4,
 "nbformat_minor": 4
}
